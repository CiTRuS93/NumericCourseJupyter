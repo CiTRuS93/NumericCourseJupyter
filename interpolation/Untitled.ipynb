{
 "cells": [
  {
   "cell_type": "code",
   "execution_count": 6,
   "metadata": {},
   "outputs": [],
   "source": [
    "import numpy as np\n",
    "import matplotlib.pyplot as plt\n",
    "from ipywidgets import interact,interact_manual\n",
    "import interpolation_method"
   ]
  },
  {
   "cell_type": "code",
   "execution_count": 31,
   "metadata": {},
   "outputs": [],
   "source": [
    "def lagrange(x,y):\n",
    "    x_val=np.fromstring(x, dtype=float, sep=' ')\n",
    "    y_val=np.fromstring(y, dtype=float, sep=' ')\n",
    "\n",
    "    x_plot = np.linspace(np.min(x_val),np.max(x_val))\n",
    "    y_plot = interpolation_method.interpolation(x_plot,x_val,y_val)\n",
    "\n",
    "    plt.scatter(x_val,y_val)\n",
    "    plt.plot(x_plot,y_plot)\n",
    "    plt.show()"
   ]
  },
  {
   "cell_type": "code",
   "execution_count": 32,
   "metadata": {},
   "outputs": [],
   "source": [
    "def newpoly(x,y):\n",
    "    print(\"new\")"
   ]
  },
  {
   "cell_type": "code",
   "execution_count": 33,
   "metadata": {},
   "outputs": [],
   "source": [
    "inter = {\"lagrange\":lagrange,\"newpoly\":newpoly}"
   ]
  },
  {
   "cell_type": "code",
   "execution_count": 34,
   "metadata": {},
   "outputs": [
    {
     "data": {
      "application/vnd.jupyter.widget-view+json": {
       "model_id": "b1ec3ee218f24de7a8ec4457ed1f1b46",
       "version_major": 2,
       "version_minor": 0
      },
      "text/plain": [
       "interactive(children=(Dropdown(description='interpolation', options=('lagrange', 'newpoly'), value='lagrange')…"
      ]
     },
     "metadata": {},
     "output_type": "display_data"
    }
   ],
   "source": [
    "@interact\n",
    "def interpolation(interpolation = inter.keys()):\n",
    "    interact_manual(inter.get(interpolation),x=\"\",y=\"\");"
   ]
  },
  {
   "cell_type": "code",
   "execution_count": null,
   "metadata": {},
   "outputs": [],
   "source": []
  }
 ],
 "metadata": {
  "kernelspec": {
   "display_name": "Python 3",
   "language": "python",
   "name": "python3"
  },
  "language_info": {
   "codemirror_mode": {
    "name": "ipython",
    "version": 3
   },
   "file_extension": ".py",
   "mimetype": "text/x-python",
   "name": "python",
   "nbconvert_exporter": "python",
   "pygments_lexer": "ipython3",
   "version": "3.7.4"
  }
 },
 "nbformat": 4,
 "nbformat_minor": 2
}
