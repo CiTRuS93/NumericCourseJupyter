{
 "cells": [
  {
   "cell_type": "code",
   "execution_count": 1,
   "metadata": {},
   "outputs": [],
   "source": [
    "import matplotlib.pyplot as plt\n",
    "#from bqplot import pyplot as plt\n",
    "import functions_handler\n",
    "from ipysheet import sheet, cell, row, column,cell_range, to_dataframe\n",
    "from ipywidgets import interact, interact_manual,HBox,Output\n",
    "import equation_solving_methods\n",
    "import pandas as pd \n",
    "from IPython.display import display"
   ]
  },
  {
   "cell_type": "code",
   "execution_count": 2,
   "metadata": {},
   "outputs": [],
   "source": [
    "func = functions_handler.functions"
   ]
  },
  {
   "cell_type": "code",
   "execution_count": 3,
   "metadata": {},
   "outputs": [],
   "source": [
    "\n",
    "def bisect(function,n):\n",
    "    plot_out = Output()\n",
    "    data_out = Output()\n",
    "    data= []\n",
    "    a=func.get(function).x_start\n",
    "    b=func.get(function).x_stop\n",
    "    plt.plot(func.get(function).get_x(),func.get(function).get_y())\n",
    "    plt.grid()\n",
    "    with plot_out:\n",
    "        for i in range(n):\n",
    "            root = equation_solving_methods.bisection(func.get(function),a,b,i)\n",
    "            if root is not None:\n",
    "                data.append({\"n\":i,\"x\":root})\n",
    "\n",
    "                plt.scatter(root,func.get(function).calc(root))\n",
    "        plt.show()\n",
    "    with data_out:\n",
    "        df = pd.DataFrame(data,columns=[\"n\",\"x\"])\n",
    "        display(df)\n",
    "    display(HBox([data_out,plot_out]))"
   ]
  },
  {
   "cell_type": "code",
   "execution_count": 4,
   "metadata": {},
   "outputs": [],
   "source": [
    "\n",
    "def newton(function,n):\n",
    "    plot_out = Output()\n",
    "    data_out = Output()\n",
    "    data= []\n",
    "    epsilon = 0.001\n",
    "    a=func.get(function).x_start\n",
    "    b=func.get(function).x_stop\n",
    "    with plot_out:\n",
    "        plt.plot(func.get(function).get_x(),func.get(function).get_y())\n",
    "        plt.grid()\n",
    "        for i in range(n):\n",
    "            root = equation_solving_methods.newton(func.get(function),a,epsilon,i)\n",
    "            if root is not None:\n",
    "                data.append({\"n\":i,\"x\":root})\n",
    "                plt.scatter(root,func.get(function).calc(root))\n",
    "        plt.show()\n",
    "    with data_out:\n",
    "        df = pd.DataFrame(data,columns=[\"n\",\"x\"])\n",
    "        display(df)\n",
    "    display(HBox([data_out,plot_out]))"
   ]
  },
  {
   "cell_type": "code",
   "execution_count": 5,
   "metadata": {},
   "outputs": [],
   "source": [
    "\n",
    "def secant_method(function,n):\n",
    "    plot_out = Output()\n",
    "    data_out = Output()\n",
    "    data= []\n",
    "    a=func.get(function).x_start\n",
    "    b=func.get(function).x_stop\n",
    "    \n",
    "    plt.plot(func.get(function).get_x(),func.get(function).get_y())\n",
    "    plt.grid()\n",
    "    with plot_out:\n",
    "        for i in range(n):\n",
    "            root = equation_solving_methods.secant(func.get(function),a,b,i)\n",
    "            if root is not None:\n",
    "                data.append({\"n\":i,\"x\":root})\n",
    "                plt.scatter(root,func.get(function).calc(root))\n",
    "        plt.show()\n",
    "    with data_out:\n",
    "        df = pd.DataFrame(data,columns=[\"n\",\"x\"])\n",
    "        display(df)\n",
    "    \n",
    "    display(HBox([data_out,plot_out]))\n",
    "    \n",
    "    "
   ]
  },
  {
   "cell_type": "code",
   "execution_count": 6,
   "metadata": {},
   "outputs": [],
   "source": [
    "method_list = {\"newton\":newton,\"bisect\":bisect,\"secant\":secant_method}"
   ]
  },
  {
   "cell_type": "code",
   "execution_count": 7,
   "metadata": {
    "scrolled": true
   },
   "outputs": [
    {
     "data": {
      "application/vnd.jupyter.widget-view+json": {
       "model_id": "6a301cb630ad44028e1fc4a118d4e292",
       "version_major": 2,
       "version_minor": 0
      },
      "text/plain": [
       "interactive(children=(Dropdown(description='method', options=('newton', 'bisect', 'secant'), value='newton'), …"
      ]
     },
     "metadata": {},
     "output_type": "display_data"
    }
   ],
   "source": [
    "@interact\n",
    "def method_selection(method=method_list.keys(),function=func.keys(),n=(0,10)):\n",
    "    %matplotlib inline\n",
    "    method_list.get(method)(function,n)"
   ]
  },
  {
   "cell_type": "code",
   "execution_count": 10,
   "metadata": {},
   "outputs": [
    {
     "ename": "NameError",
     "evalue": "name 'main' is not defined",
     "output_type": "error",
     "traceback": [
      "\u001b[0;31m---------------------------------------------------------------------------\u001b[0m",
      "\u001b[0;31mNameError\u001b[0m                                 Traceback (most recent call last)",
      "\u001b[0;32m<ipython-input-10-2436fc2ab63a>\u001b[0m in \u001b[0;36m<module>\u001b[0;34m()\u001b[0m\n\u001b[1;32m      1\u001b[0m \u001b[0;32mif\u001b[0m \u001b[0m__name__\u001b[0m \u001b[0;34m==\u001b[0m \u001b[0;34m'__main__'\u001b[0m\u001b[0;34m:\u001b[0m\u001b[0;34m\u001b[0m\u001b[0;34m\u001b[0m\u001b[0m\n\u001b[0;32m----> 2\u001b[0;31m     \u001b[0mmain\u001b[0m\u001b[0;34m(\u001b[0m\u001b[0;34m)\u001b[0m\u001b[0;34m\u001b[0m\u001b[0;34m\u001b[0m\u001b[0m\n\u001b[0m",
      "\u001b[0;31mNameError\u001b[0m: name 'main' is not defined"
     ]
    }
   ],
   "source": [
    "if __name__ == '__main__':\n",
    "    main()"
   ]
  },
  {
   "cell_type": "code",
   "execution_count": null,
   "metadata": {},
   "outputs": [],
   "source": []
  }
 ],
 "metadata": {
  "kernelspec": {
   "display_name": "Python 3",
   "language": "python",
   "name": "python3"
  },
  "language_info": {
   "codemirror_mode": {
    "name": "ipython",
    "version": 3
   },
   "file_extension": ".py",
   "mimetype": "text/x-python",
   "name": "python",
   "nbconvert_exporter": "python",
   "pygments_lexer": "ipython3",
   "version": "3.7.4"
  }
 },
 "nbformat": 4,
 "nbformat_minor": 2
}
